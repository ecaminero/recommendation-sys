{
 "cells": [
  {
   "cell_type": "markdown",
   "metadata": {},
   "source": [
    "# Laboratorio 2\n",
    "\n",
    "- **Fecha Inicio**: Miércoles 25 de abril del 2018\n",
    "- **Fecha Informe**: Domingo 06 de mayo del 2018\n",
    "- **Integrantes**: Verónica Cestari y Edwin Caminero"
   ]
  },
  {
   "cell_type": "markdown",
   "metadata": {},
   "source": [
    "## Instalación\n",
    "\n",
    "Para facilitar el proceso de instalación de esta actividad, trabajaremos con una máquina virtual que tendrá _casi_ todos los programas instalados.\n",
    "\n",
    "Como motor de máquinas virtuales usaremos [Virtual Box](https://www.virtualbox.org/wiki/Downloads). Desde ese link tendrán que descargar la versión que mejor se ajuste a su sistema operativo. Luego desde los servidores de la universidad deben descargar la [máquina virtual](http://niebla.ing.puc.cl/diplomadobigdata/vbox-pyreclab-lda.ova) ya configurada.\n",
    "\n",
    "Finalmente debemos importar la máquina descargada dentro de Virtual Box, para ello deben seguir los siguientes pasos: Abrir virtual box > Archivo > Abrir servicio virtualizado, o bien `Crtl+I`.\n",
    "\n",
    "**Observación:** la contraseña del usuario configurado es _ubuntu_.\n",
    "\n",
    "Una vez abierto la máquina virtual, abrir la consola o terminal y escribir los siguiente comandos:\n",
    "\n",
    "```bash\n",
    "$ sudo apt-get update\n",
    "$ sudo apt-get install python3-dev\n",
    "$ sudo apt-get install git\n",
    "$ sudo pip3 install jupyter\n",
    "$ sudo pip3 install matplotlib\n",
    "$ sudo pip3 install pandas\n",
    "$ sudo pip3 install scipy\n",
    "$ sudo pip3 install cython\n",
    "$ sudo pip3 install implicit\n",
    "$ sudo pip3 install sklearn\n",
    "```\n",
    "\n",
    "Descargar este proyecto ya sea con `git` o mediante el botón de descargar y ejecutar `notebook`.\n",
    "\n",
    "```bash\n",
    "$ git clone https://github.com/stgolarrain/recsys-labs.git\n",
    "$ cd recsys-labs/assignment-2\n",
    "$ jupyter notebook\n",
    "```"
   ]
  },
  {
   "cell_type": "markdown",
   "metadata": {},
   "source": [
    "## Instrucciones\n",
    "\n",
    "En este laboratorio vamos a utilizar la librería [implicit](https://github.com/benfred/implicit), la cual implementa dos modelos de *implicit feedback* con [Bayesian Probabilistic Ranking](https://arxiv.org/pdf/1205.2618.pdf) y [Alternating Least Square (ALS)](https://web.stanford.edu/~rezab/classes/cme323/S15/notes/lec14.pdf).\n",
    "\n",
    "Por otro lado, aprenderás a usar la librería [pandas](https://pandas.pydata.org/) para la manipulación de datos a través de *data frames*. En la tercera parte, usaremos la librería [scikit-learn](http://scikit-learn.org/) la cual es considerada un estándar en temas de `machine learning` y modelos predictivos. Recomendamos al alumno revisar la documentación de ambas librerías.\n",
    " \n",
    "También contarán con un pequeño set de datos ubicado en la carpeta `/dataset`, el cual incluye dos archivos: `movies.dat` y `ratings.dat`. Como es de esperarse el archivo `movies.dat` cuenta con metadatos de películas, mientras que `ratings.dat` contiene los *ratings* que diferentes usuarios le asignaron a diferentes películas. El formato de cada archivo es como sigue:\n",
    "\n",
    "- `movies.dat`: `movie_id; title; genres`\n",
    "- `ratings.dat`: `user_id; movie_id; rating; timestamp`\n",
    "\n",
    "Los datos de `genres` corresponden a las categorías de la película separados por el caracter |.\n",
    "\n",
    "En este laboratorio tendrán que implementar las siguientes tareas:\n",
    "\n",
    "1. Descripción preliminar del set de datos\n",
    "2. Entrenar y evaluar cualitativamente los modelos de factorización utilizando ambos métodos\n",
    "3. Visualizar los vectores latentes mediante la técnica PCA"
   ]
  },
  {
   "cell_type": "markdown",
   "metadata": {},
   "source": [
    "## 1. Descripción de los Datos\n",
    "\n",
    "En esta sección utilizaremos la librería [Pandas](https://pandas.pydata.org/) para el manejo de *data frames*."
   ]
  },
  {
   "cell_type": "code",
   "execution_count": 136,
   "metadata": {},
   "outputs": [],
   "source": [
    "import pandas as pd\n",
    "import matplotlib.pyplot as plt\n",
    "%matplotlib inline"
   ]
  },
  {
   "cell_type": "code",
   "execution_count": 137,
   "metadata": {},
   "outputs": [
    {
     "data": {
      "text/html": [
       "<div>\n",
       "<style scoped>\n",
       "    .dataframe tbody tr th:only-of-type {\n",
       "        vertical-align: middle;\n",
       "    }\n",
       "\n",
       "    .dataframe tbody tr th {\n",
       "        vertical-align: top;\n",
       "    }\n",
       "\n",
       "    .dataframe thead th {\n",
       "        text-align: right;\n",
       "    }\n",
       "</style>\n",
       "<table border=\"1\" class=\"dataframe\">\n",
       "  <thead>\n",
       "    <tr style=\"text-align: right;\">\n",
       "      <th></th>\n",
       "      <th>movie_id</th>\n",
       "      <th>title</th>\n",
       "      <th>genres</th>\n",
       "    </tr>\n",
       "  </thead>\n",
       "  <tbody>\n",
       "    <tr>\n",
       "      <th>0</th>\n",
       "      <td>1</td>\n",
       "      <td>Toy Story (1995)</td>\n",
       "      <td>Animation|Children's|Comedy</td>\n",
       "    </tr>\n",
       "    <tr>\n",
       "      <th>1</th>\n",
       "      <td>2</td>\n",
       "      <td>Jumanji (1995)</td>\n",
       "      <td>Adventure|Children's|Fantasy</td>\n",
       "    </tr>\n",
       "    <tr>\n",
       "      <th>2</th>\n",
       "      <td>3</td>\n",
       "      <td>Grumpier Old Men (1995)</td>\n",
       "      <td>Comedy|Romance</td>\n",
       "    </tr>\n",
       "    <tr>\n",
       "      <th>3</th>\n",
       "      <td>4</td>\n",
       "      <td>Waiting to Exhale (1995)</td>\n",
       "      <td>Comedy|Drama</td>\n",
       "    </tr>\n",
       "    <tr>\n",
       "      <th>4</th>\n",
       "      <td>5</td>\n",
       "      <td>Father of the Bride Part II (1995)</td>\n",
       "      <td>Comedy</td>\n",
       "    </tr>\n",
       "  </tbody>\n",
       "</table>\n",
       "</div>"
      ],
      "text/plain": [
       "   movie_id                               title                        genres\n",
       "0         1                    Toy Story (1995)   Animation|Children's|Comedy\n",
       "1         2                      Jumanji (1995)  Adventure|Children's|Fantasy\n",
       "2         3             Grumpier Old Men (1995)                Comedy|Romance\n",
       "3         4            Waiting to Exhale (1995)                  Comedy|Drama\n",
       "4         5  Father of the Bride Part II (1995)                        Comedy"
      ]
     },
     "execution_count": 137,
     "metadata": {},
     "output_type": "execute_result"
    }
   ],
   "source": [
    "# Load movies dataset\n",
    "movies_path = './dataset/movies.dat'\n",
    "headers = ['movie_id', 'title', 'genres']\n",
    "movies = pd.read_csv(movies_path,\n",
    "                     names=headers,\n",
    "                     delimiter=';')\n",
    "\n",
    "movies[:5]"
   ]
  },
  {
   "cell_type": "code",
   "execution_count": 138,
   "metadata": {},
   "outputs": [
    {
     "name": "stdout",
     "output_type": "stream",
     "text": [
      "# Movies: 3883\n"
     ]
    }
   ],
   "source": [
    "print('# Movies:', movies['movie_id'].nunique())"
   ]
  },
  {
   "cell_type": "markdown",
   "metadata": {},
   "source": [
    "**Pregunta** ¿Cuántas películas tiene el set de datos?\n",
    "\n",
    "**Respuesta**"
   ]
  },
  {
   "cell_type": "code",
   "execution_count": 139,
   "metadata": {},
   "outputs": [
    {
     "name": "stdout",
     "output_type": "stream",
     "text": [
      "# Cantidad de peliculas: 3883\n"
     ]
    }
   ],
   "source": [
    "print('# Cantidad de peliculas:', movies['movie_id'].nunique())"
   ]
  },
  {
   "cell_type": "code",
   "execution_count": 140,
   "metadata": {},
   "outputs": [
    {
     "data": {
      "text/html": [
       "<div>\n",
       "<style scoped>\n",
       "    .dataframe tbody tr th:only-of-type {\n",
       "        vertical-align: middle;\n",
       "    }\n",
       "\n",
       "    .dataframe tbody tr th {\n",
       "        vertical-align: top;\n",
       "    }\n",
       "\n",
       "    .dataframe thead th {\n",
       "        text-align: right;\n",
       "    }\n",
       "</style>\n",
       "<table border=\"1\" class=\"dataframe\">\n",
       "  <thead>\n",
       "    <tr style=\"text-align: right;\">\n",
       "      <th></th>\n",
       "      <th>user_id</th>\n",
       "      <th>movie_id</th>\n",
       "      <th>rating</th>\n",
       "    </tr>\n",
       "  </thead>\n",
       "  <tbody>\n",
       "    <tr>\n",
       "      <th>0</th>\n",
       "      <td>1</td>\n",
       "      <td>1193</td>\n",
       "      <td>5</td>\n",
       "    </tr>\n",
       "    <tr>\n",
       "      <th>1</th>\n",
       "      <td>1</td>\n",
       "      <td>661</td>\n",
       "      <td>3</td>\n",
       "    </tr>\n",
       "    <tr>\n",
       "      <th>2</th>\n",
       "      <td>1</td>\n",
       "      <td>914</td>\n",
       "      <td>3</td>\n",
       "    </tr>\n",
       "    <tr>\n",
       "      <th>3</th>\n",
       "      <td>1</td>\n",
       "      <td>3408</td>\n",
       "      <td>4</td>\n",
       "    </tr>\n",
       "    <tr>\n",
       "      <th>4</th>\n",
       "      <td>1</td>\n",
       "      <td>2355</td>\n",
       "      <td>5</td>\n",
       "    </tr>\n",
       "  </tbody>\n",
       "</table>\n",
       "</div>"
      ],
      "text/plain": [
       "   user_id  movie_id  rating\n",
       "0        1      1193       5\n",
       "1        1       661       3\n",
       "2        1       914       3\n",
       "3        1      3408       4\n",
       "4        1      2355       5"
      ]
     },
     "execution_count": 140,
     "metadata": {},
     "output_type": "execute_result"
    }
   ],
   "source": [
    "# Load rating dataset\n",
    "ratings_path = './dataset/ratings.dat'\n",
    "headers = ['user_id', 'movie_id', 'rating', 'timestamp']\n",
    "ratings = pd.read_csv(ratings_path,\n",
    "                     names=headers,\n",
    "                     delimiter=';',\n",
    "                     usecols=['user_id', 'movie_id', 'rating'])\n",
    "\n",
    "ratings[:5]"
   ]
  },
  {
   "cell_type": "code",
   "execution_count": 141,
   "metadata": {},
   "outputs": [
    {
     "data": {
      "text/html": [
       "<div>\n",
       "<style scoped>\n",
       "    .dataframe tbody tr th:only-of-type {\n",
       "        vertical-align: middle;\n",
       "    }\n",
       "\n",
       "    .dataframe tbody tr th {\n",
       "        vertical-align: top;\n",
       "    }\n",
       "\n",
       "    .dataframe thead th {\n",
       "        text-align: right;\n",
       "    }\n",
       "</style>\n",
       "<table border=\"1\" class=\"dataframe\">\n",
       "  <thead>\n",
       "    <tr style=\"text-align: right;\">\n",
       "      <th></th>\n",
       "      <th>user_id</th>\n",
       "      <th>movie_id</th>\n",
       "      <th>rating</th>\n",
       "    </tr>\n",
       "  </thead>\n",
       "  <tbody>\n",
       "    <tr>\n",
       "      <th>0</th>\n",
       "      <td>1</td>\n",
       "      <td>1193</td>\n",
       "      <td>5</td>\n",
       "    </tr>\n",
       "    <tr>\n",
       "      <th>1</th>\n",
       "      <td>1</td>\n",
       "      <td>661</td>\n",
       "      <td>3</td>\n",
       "    </tr>\n",
       "    <tr>\n",
       "      <th>2</th>\n",
       "      <td>1</td>\n",
       "      <td>914</td>\n",
       "      <td>3</td>\n",
       "    </tr>\n",
       "    <tr>\n",
       "      <th>3</th>\n",
       "      <td>1</td>\n",
       "      <td>3408</td>\n",
       "      <td>4</td>\n",
       "    </tr>\n",
       "    <tr>\n",
       "      <th>4</th>\n",
       "      <td>1</td>\n",
       "      <td>2355</td>\n",
       "      <td>5</td>\n",
       "    </tr>\n",
       "  </tbody>\n",
       "</table>\n",
       "</div>"
      ],
      "text/plain": [
       "   user_id  movie_id  rating\n",
       "0        1      1193       5\n",
       "1        1       661       3\n",
       "2        1       914       3\n",
       "3        1      3408       4\n",
       "4        1      2355       5"
      ]
     },
     "execution_count": 141,
     "metadata": {},
     "output_type": "execute_result"
    }
   ],
   "source": [
    "# Load rating dataset\n",
    "ratings_path = './dataset/ratings.dat'\n",
    "headers = ['user_id', 'movie_id', 'rating', 'timestamp']\n",
    "ratings = pd.read_csv(ratings_path,\n",
    "                     names=headers,\n",
    "                     delimiter=';',\n",
    "                     usecols=['user_id', 'movie_id', 'rating'])\n",
    "\n",
    "ratings[:5]"
   ]
  },
  {
   "cell_type": "markdown",
   "metadata": {},
   "source": [
    "**Pregunta** ¿Cuántos usuarios tiene el set de datos?\n",
    "\n",
    "** Respuesta**"
   ]
  },
  {
   "cell_type": "code",
   "execution_count": 142,
   "metadata": {},
   "outputs": [
    {
     "name": "stdout",
     "output_type": "stream",
     "text": [
      "# Cantidad de usuarios: 6040\n"
     ]
    }
   ],
   "source": [
    "# TODO: Code your answer here\n",
    "print('# Cantidad de usuarios:', ratings['user_id'].nunique())"
   ]
  },
  {
   "cell_type": "markdown",
   "metadata": {},
   "source": [
    "**Pregunta** ¿Cuál es el porcentaje de densidad que tiene la matriz usuario-items\n",
    "\n",
    "** Respuesta**\n"
   ]
  },
  {
   "cell_type": "code",
   "execution_count": 143,
   "metadata": {},
   "outputs": [
    {
     "name": "stdout",
     "output_type": "stream",
     "text": [
      "4.468362562231285 %\n"
     ]
    }
   ],
   "source": [
    "cant_users = ratings['user_id'].nunique()\n",
    "cant_movie = ratings['movie_id'].nunique()\n",
    "matrix_size = cant_users * cant_movie\n",
    "\n",
    "density = len(ratings)/matrix_size\n",
    "\n",
    "print(density*100, '%')"
   ]
  },
  {
   "cell_type": "code",
   "execution_count": 144,
   "metadata": {},
   "outputs": [
    {
     "data": {
      "text/html": [
       "<div>\n",
       "<style scoped>\n",
       "    .dataframe tbody tr th:only-of-type {\n",
       "        vertical-align: middle;\n",
       "    }\n",
       "\n",
       "    .dataframe tbody tr th {\n",
       "        vertical-align: top;\n",
       "    }\n",
       "\n",
       "    .dataframe thead th {\n",
       "        text-align: right;\n",
       "    }\n",
       "</style>\n",
       "<table border=\"1\" class=\"dataframe\">\n",
       "  <thead>\n",
       "    <tr style=\"text-align: right;\">\n",
       "      <th></th>\n",
       "      <th>movie_id</th>\n",
       "      <th>rating</th>\n",
       "      <th>title</th>\n",
       "      <th>genres</th>\n",
       "    </tr>\n",
       "  </thead>\n",
       "  <tbody>\n",
       "    <tr>\n",
       "      <th>0</th>\n",
       "      <td>1</td>\n",
       "      <td>2077</td>\n",
       "      <td>Toy Story (1995)</td>\n",
       "      <td>Animation|Children's|Comedy</td>\n",
       "    </tr>\n",
       "    <tr>\n",
       "      <th>1</th>\n",
       "      <td>2</td>\n",
       "      <td>701</td>\n",
       "      <td>Jumanji (1995)</td>\n",
       "      <td>Adventure|Children's|Fantasy</td>\n",
       "    </tr>\n",
       "    <tr>\n",
       "      <th>2</th>\n",
       "      <td>3</td>\n",
       "      <td>478</td>\n",
       "      <td>Grumpier Old Men (1995)</td>\n",
       "      <td>Comedy|Romance</td>\n",
       "    </tr>\n",
       "    <tr>\n",
       "      <th>3</th>\n",
       "      <td>4</td>\n",
       "      <td>170</td>\n",
       "      <td>Waiting to Exhale (1995)</td>\n",
       "      <td>Comedy|Drama</td>\n",
       "    </tr>\n",
       "    <tr>\n",
       "      <th>4</th>\n",
       "      <td>5</td>\n",
       "      <td>296</td>\n",
       "      <td>Father of the Bride Part II (1995)</td>\n",
       "      <td>Comedy</td>\n",
       "    </tr>\n",
       "  </tbody>\n",
       "</table>\n",
       "</div>"
      ],
      "text/plain": [
       "   movie_id  rating                               title  \\\n",
       "0         1    2077                    Toy Story (1995)   \n",
       "1         2     701                      Jumanji (1995)   \n",
       "2         3     478             Grumpier Old Men (1995)   \n",
       "3         4     170            Waiting to Exhale (1995)   \n",
       "4         5     296  Father of the Bride Part II (1995)   \n",
       "\n",
       "                         genres  \n",
       "0   Animation|Children's|Comedy  \n",
       "1  Adventure|Children's|Fantasy  \n",
       "2                Comedy|Romance  \n",
       "3                  Comedy|Drama  \n",
       "4                        Comedy  "
      ]
     },
     "execution_count": 144,
     "metadata": {},
     "output_type": "execute_result"
    }
   ],
   "source": [
    "# Top 5 most popular movies\n",
    "top_5_count = ratings.groupby(['movie_id'], as_index=False)[['rating']].count().head(5)\n",
    "top_5_count = top_5_count.merge(movies, on='movie_id', how='inner')\n",
    "top_5_count"
   ]
  },
  {
   "cell_type": "code",
   "execution_count": 145,
   "metadata": {},
   "outputs": [
    {
     "data": {
      "text/html": [
       "<div>\n",
       "<style scoped>\n",
       "    .dataframe tbody tr th:only-of-type {\n",
       "        vertical-align: middle;\n",
       "    }\n",
       "\n",
       "    .dataframe tbody tr th {\n",
       "        vertical-align: top;\n",
       "    }\n",
       "\n",
       "    .dataframe thead th {\n",
       "        text-align: right;\n",
       "    }\n",
       "</style>\n",
       "<table border=\"1\" class=\"dataframe\">\n",
       "  <thead>\n",
       "    <tr style=\"text-align: right;\">\n",
       "      <th></th>\n",
       "      <th>movie_id</th>\n",
       "      <th>rating</th>\n",
       "      <th>title</th>\n",
       "      <th>genres</th>\n",
       "    </tr>\n",
       "  </thead>\n",
       "  <tbody>\n",
       "    <tr>\n",
       "      <th>0</th>\n",
       "      <td>1</td>\n",
       "      <td>4.146846</td>\n",
       "      <td>Toy Story (1995)</td>\n",
       "      <td>Animation|Children's|Comedy</td>\n",
       "    </tr>\n",
       "    <tr>\n",
       "      <th>1</th>\n",
       "      <td>2</td>\n",
       "      <td>3.201141</td>\n",
       "      <td>Jumanji (1995)</td>\n",
       "      <td>Adventure|Children's|Fantasy</td>\n",
       "    </tr>\n",
       "    <tr>\n",
       "      <th>2</th>\n",
       "      <td>3</td>\n",
       "      <td>3.016736</td>\n",
       "      <td>Grumpier Old Men (1995)</td>\n",
       "      <td>Comedy|Romance</td>\n",
       "    </tr>\n",
       "    <tr>\n",
       "      <th>3</th>\n",
       "      <td>4</td>\n",
       "      <td>2.729412</td>\n",
       "      <td>Waiting to Exhale (1995)</td>\n",
       "      <td>Comedy|Drama</td>\n",
       "    </tr>\n",
       "    <tr>\n",
       "      <th>4</th>\n",
       "      <td>5</td>\n",
       "      <td>3.006757</td>\n",
       "      <td>Father of the Bride Part II (1995)</td>\n",
       "      <td>Comedy</td>\n",
       "    </tr>\n",
       "  </tbody>\n",
       "</table>\n",
       "</div>"
      ],
      "text/plain": [
       "   movie_id    rating                               title  \\\n",
       "0         1  4.146846                    Toy Story (1995)   \n",
       "1         2  3.201141                      Jumanji (1995)   \n",
       "2         3  3.016736             Grumpier Old Men (1995)   \n",
       "3         4  2.729412            Waiting to Exhale (1995)   \n",
       "4         5  3.006757  Father of the Bride Part II (1995)   \n",
       "\n",
       "                         genres  \n",
       "0   Animation|Children's|Comedy  \n",
       "1  Adventure|Children's|Fantasy  \n",
       "2                Comedy|Romance  \n",
       "3                  Comedy|Drama  \n",
       "4                        Comedy  "
      ]
     },
     "execution_count": 145,
     "metadata": {},
     "output_type": "execute_result"
    }
   ],
   "source": [
    "# Top 5 most like movies (average rating)\n",
    "top_5_mean_rating = ratings.groupby(['movie_id'], as_index=False)[['rating']].mean().head(5)\n",
    "top_5_mean_rating = top_5_mean_rating.merge(movies, on='movie_id', how='inner')\n",
    "top_5_mean_rating"
   ]
  },
  {
   "cell_type": "markdown",
   "metadata": {},
   "source": [
    "**Pregunta** ¿Cuales son las películas menos populares en términos de cantidad?\n",
    "\n",
    "*Hint* Te recomendamos utilizar la función [`tail`](https://pandas.pydata.org/pandas-docs/stable/generated/pandas.DataFrame.tail.html) de Pandas\n",
    "\n",
    "**Respuesta**"
   ]
  },
  {
   "cell_type": "code",
   "execution_count": 146,
   "metadata": {},
   "outputs": [
    {
     "data": {
      "text/html": [
       "<div>\n",
       "<style scoped>\n",
       "    .dataframe tbody tr th:only-of-type {\n",
       "        vertical-align: middle;\n",
       "    }\n",
       "\n",
       "    .dataframe tbody tr th {\n",
       "        vertical-align: top;\n",
       "    }\n",
       "\n",
       "    .dataframe thead th {\n",
       "        text-align: right;\n",
       "    }\n",
       "</style>\n",
       "<table border=\"1\" class=\"dataframe\">\n",
       "  <thead>\n",
       "    <tr style=\"text-align: right;\">\n",
       "      <th></th>\n",
       "      <th>movie_id</th>\n",
       "      <th>rating</th>\n",
       "      <th>title</th>\n",
       "      <th>genres</th>\n",
       "    </tr>\n",
       "  </thead>\n",
       "  <tbody>\n",
       "    <tr>\n",
       "      <th>0</th>\n",
       "      <td>402</td>\n",
       "      <td>1</td>\n",
       "      <td>Open Season (1996)</td>\n",
       "      <td>Comedy</td>\n",
       "    </tr>\n",
       "    <tr>\n",
       "      <th>1</th>\n",
       "      <td>2214</td>\n",
       "      <td>1</td>\n",
       "      <td>Number Seventeen (1932)</td>\n",
       "      <td>Thriller</td>\n",
       "    </tr>\n",
       "    <tr>\n",
       "      <th>2</th>\n",
       "      <td>3382</td>\n",
       "      <td>1</td>\n",
       "      <td>Song of Freedom (1936)</td>\n",
       "      <td>Drama</td>\n",
       "    </tr>\n",
       "    <tr>\n",
       "      <th>3</th>\n",
       "      <td>2217</td>\n",
       "      <td>1</td>\n",
       "      <td>Elstree Calling (1930)</td>\n",
       "      <td>Comedy|Musical</td>\n",
       "    </tr>\n",
       "    <tr>\n",
       "      <th>4</th>\n",
       "      <td>2218</td>\n",
       "      <td>1</td>\n",
       "      <td>Juno and Paycock (1930)</td>\n",
       "      <td>Drama</td>\n",
       "    </tr>\n",
       "  </tbody>\n",
       "</table>\n",
       "</div>"
      ],
      "text/plain": [
       "   movie_id  rating                    title          genres\n",
       "0       402       1       Open Season (1996)          Comedy\n",
       "1      2214       1  Number Seventeen (1932)        Thriller\n",
       "2      3382       1   Song of Freedom (1936)           Drama\n",
       "3      2217       1   Elstree Calling (1930)  Comedy|Musical\n",
       "4      2218       1  Juno and Paycock (1930)           Drama"
      ]
     },
     "execution_count": 146,
     "metadata": {},
     "output_type": "execute_result"
    }
   ],
   "source": [
    "# TODO: Code your answer here\n",
    "less_popular = ratings.groupby(['movie_id'], as_index=False)[['rating']].count()\n",
    "less_popular = less_popular.sort_values(by=['rating'])\n",
    "less_popular = less_popular.merge(movies, on='movie_id', how='inner')\n",
    "less_popular.head(5)"
   ]
  },
  {
   "cell_type": "markdown",
   "metadata": {},
   "source": [
    "**Pregunta** ¿Cuales son las películas menos populares en términos de rating promedio?\n",
    "\n",
    "**Respuesta**"
   ]
  },
  {
   "cell_type": "code",
   "execution_count": 147,
   "metadata": {},
   "outputs": [
    {
     "data": {
      "text/html": [
       "<div>\n",
       "<style scoped>\n",
       "    .dataframe tbody tr th:only-of-type {\n",
       "        vertical-align: middle;\n",
       "    }\n",
       "\n",
       "    .dataframe tbody tr th {\n",
       "        vertical-align: top;\n",
       "    }\n",
       "\n",
       "    .dataframe thead th {\n",
       "        text-align: right;\n",
       "    }\n",
       "</style>\n",
       "<table border=\"1\" class=\"dataframe\">\n",
       "  <thead>\n",
       "    <tr style=\"text-align: right;\">\n",
       "      <th></th>\n",
       "      <th>movie_id</th>\n",
       "      <th>rating</th>\n",
       "      <th>title</th>\n",
       "      <th>genres</th>\n",
       "    </tr>\n",
       "  </thead>\n",
       "  <tbody>\n",
       "    <tr>\n",
       "      <th>0</th>\n",
       "      <td>1430</td>\n",
       "      <td>1.0</td>\n",
       "      <td>Underworld (1997)</td>\n",
       "      <td>Thriller</td>\n",
       "    </tr>\n",
       "    <tr>\n",
       "      <th>1</th>\n",
       "      <td>1165</td>\n",
       "      <td>1.0</td>\n",
       "      <td>Bloody Child, The (1996)</td>\n",
       "      <td>Drama|Thriller</td>\n",
       "    </tr>\n",
       "    <tr>\n",
       "      <th>2</th>\n",
       "      <td>641</td>\n",
       "      <td>1.0</td>\n",
       "      <td>Little Indian, Big City (Un indien dans la vil...</td>\n",
       "      <td>Comedy</td>\n",
       "    </tr>\n",
       "    <tr>\n",
       "      <th>3</th>\n",
       "      <td>3651</td>\n",
       "      <td>1.0</td>\n",
       "      <td>Blood Spattered Bride, The (La Novia Ensangren...</td>\n",
       "      <td>Horror</td>\n",
       "    </tr>\n",
       "    <tr>\n",
       "      <th>4</th>\n",
       "      <td>3228</td>\n",
       "      <td>1.0</td>\n",
       "      <td>Wirey Spindell (1999)</td>\n",
       "      <td>Comedy</td>\n",
       "    </tr>\n",
       "  </tbody>\n",
       "</table>\n",
       "</div>"
      ],
      "text/plain": [
       "   movie_id  rating                                              title  \\\n",
       "0      1430     1.0                                  Underworld (1997)   \n",
       "1      1165     1.0                           Bloody Child, The (1996)   \n",
       "2       641     1.0  Little Indian, Big City (Un indien dans la vil...   \n",
       "3      3651     1.0  Blood Spattered Bride, The (La Novia Ensangren...   \n",
       "4      3228     1.0                              Wirey Spindell (1999)   \n",
       "\n",
       "           genres  \n",
       "0        Thriller  \n",
       "1  Drama|Thriller  \n",
       "2          Comedy  \n",
       "3          Horror  \n",
       "4          Comedy  "
      ]
     },
     "execution_count": 147,
     "metadata": {},
     "output_type": "execute_result"
    }
   ],
   "source": [
    "# TODO: Code your answer here\n",
    "less_mean_ratings = ratings.groupby(['movie_id'], as_index=False)[['rating']].mean()\n",
    "less_mean_ratings = less_mean_ratings.sort_values(by=['rating'])\n",
    "less_mean_ratings = less_mean_ratings.merge(movies, on='movie_id', how='inner')\n",
    "less_mean_ratings.head(5)"
   ]
  },
  {
   "cell_type": "markdown",
   "metadata": {},
   "source": [
    "**Pregunta** Describa las listas de películas menos populares ¿Se parecen las listas de películas menos populares? ¿Por qué?\n",
    "\n",
    "**Respuesta**\n",
    "\n",
    "Los valores son distintos, porque la primera lista de peliculas obtiene las menos populares agrupando por id de pelicula que recibieron un rating menor y para la segunda lista se promediaron los ratings para cada pelicula segun los usuarios. "
   ]
  },
  {
   "cell_type": "code",
   "execution_count": 148,
   "metadata": {},
   "outputs": [
    {
     "data": {
      "image/png": "[encoded data removed]",
      "text/plain": [
       "<Figure size 432x288 with 1 Axes>"
      ]
     },
     "metadata": {},
     "output_type": "display_data"
    }
   ],
   "source": [
    "# Rating Histogram\n",
    "ratings['rating'].hist(bins=5)\n",
    "plt.title('Rating Histogram')\n",
    "plt.xlabel('Rating')\n",
    "plt.ylabel('Frequency')\n",
    "plt.show()"
   ]
  },
  {
   "cell_type": "markdown",
   "metadata": {},
   "source": [
    "**Pregunta**: ¿El set de datos tiene problemas de `cold-start` o ítems con pocos ratings? Justifique generando un histograma con los ratings por usuario y por ítems.\n",
    "\n",
    "*Hint*: recomendamos utilizar el parámetro bins en el histograma para visualizar la respuesta.\n",
    "\n",
    "**Respuesta**\n",
    "Para entender lo solicitado, se armaron varios histogramas dos con los items ordenados de manera ascendente, y dos con los promedios de ratings, en los dos casos se pudo identificar que si existen una cantidad considerable de movies que tienen pocos votos y usuarios que tienen pocos votos, se puede ver mas claro"
   ]
  },
  {
   "cell_type": "code",
   "execution_count": 149,
   "metadata": {},
   "outputs": [
    {
     "data": {
      "image/png": "[encoded data removed]",
      "text/plain": [
       "<Figure size 432x288 with 1 Axes>"
      ]
     },
     "metadata": {},
     "output_type": "display_data"
    },
    {
     "data": {
      "image/png": "[encoded data removed]",
      "text/plain": [
       "<Figure size 432x288 with 1 Axes>"
      ]
     },
     "metadata": {},
     "output_type": "display_data"
    },
    {
     "data": {
      "image/png": "[encoded data removed]",
      "text/plain": [
       "<Figure size 432x288 with 1 Axes>"
      ]
     },
     "metadata": {},
     "output_type": "display_data"
    },
    {
     "data": {
      "image/png": "[encoded data removed]",
      "text/plain": [
       "<Figure size 432x288 with 1 Axes>"
      ]
     },
     "metadata": {},
     "output_type": "display_data"
    }
   ],
   "source": [
    "# TODO: Code your answer\n",
    "items = ratings.groupby(['movie_id'], as_index=False)[['rating']].count()\n",
    "items = items.sort_values(by=['rating'])\n",
    "items.head(500)['movie_id'].hist(bins=50) # reducimos el set a 500 para obtener una mejor grafica\n",
    "#print(items.head(500))\n",
    "plt.title('Histogram votes by movies')\n",
    "plt.xlabel('Movie')\n",
    "plt.ylabel('Vote')\n",
    "plt.show()\n",
    "\n",
    "# -----------\n",
    "users_votes = ratings.groupby(['user_id'], as_index=False)[['rating']].count()\n",
    "users_votes = users_votes.sort_values(by=['rating'])\n",
    "users_votes.head(500)['user_id'].hist(bins=50) # reducimos el set a 500 para obtener una mejor grafica\n",
    "#print(items.head(500))\n",
    "plt.title('Histogram votes by users')\n",
    "plt.xlabel('Users')\n",
    "plt.ylabel('Votes')\n",
    "plt.show()\n",
    "\n",
    "# Ratings con promedio\n",
    "\n",
    "# TODO: Code your answer\n",
    "items = ratings.groupby(['movie_id'], as_index=False)[['rating']].mean()\n",
    "items = items.sort_values(by=['rating'])\n",
    "items['rating'].hist(bins=5)\n",
    "#print(items.head(500))\n",
    "plt.title('Histogram votes by movies')\n",
    "plt.xlabel('Rating')\n",
    "plt.ylabel('Movies')\n",
    "plt.show()\n",
    "\n",
    "# -----------\n",
    "users_votes = ratings.groupby(['user_id'], as_index=False)[['rating']].mean()\n",
    "users_votes = users_votes.sort_values(by=['rating'])\n",
    "users_votes['rating'].hist(bins=5)\n",
    "# print(users_votes)\n",
    "plt.title('Histogram votes by users')\n",
    "plt.xlabel('Rating')\n",
    "plt.ylabel('Users')\n",
    "plt.show()\n",
    "\n",
    "\n",
    "\n"
   ]
  },
  {
   "cell_type": "markdown",
   "metadata": {},
   "source": [
    "## 2. Factorización Matricial"
   ]
  },
  {
   "cell_type": "code",
   "execution_count": 150,
   "metadata": {},
   "outputs": [],
   "source": [
    "import implicit\n",
    "import numpy as np\n",
    "from scipy.sparse import coo_matrix\n",
    "from implicit.als import AlternatingLeastSquares\n",
    "from implicit.bpr import BayesianPersonalizedRanking"
   ]
  },
  {
   "cell_type": "code",
   "execution_count": 151,
   "metadata": {},
   "outputs": [],
   "source": [
    "# Parse data into a sparse matrix\n",
    "data = ratings\n",
    "\n",
    "# Generate map for user\n",
    "unique_users = data['user_id'].unique()\n",
    "user_to_int = {u: i for i, u in enumerate(unique_users)}\n",
    "int_to_user = dict(enumerate(unique_users))\n",
    "\n",
    "# Generate map for movies\n",
    "unique_movies = data['movie_id'].unique()\n",
    "movie_to_int = {u: i for i, u in enumerate(unique_movies)}\n",
    "int_to_movie = dict(enumerate(unique_movies))\n",
    "\n",
    "# Map user and movies\n",
    "user_data = data['user_id'].map(lambda u: user_to_int[u]).tolist()\n",
    "movie_data = data['movie_id'].map(lambda m: movie_to_int[m]).tolist()\n",
    "\n",
    "data = coo_matrix((data['rating'].astype(np.float32),\n",
    "                  (movie_data, user_data)))\n",
    "items = data.T.tocsr()"
   ]
  },
  {
   "cell_type": "markdown",
   "metadata": {},
   "source": [
    "En la próxima celda generaremos nuestro modelo ALS y lo entrenaremos con los datos de forma implícita."
   ]
  },
  {
   "cell_type": "code",
   "execution_count": 152,
   "metadata": {},
   "outputs": [],
   "source": [
    "# Train an ALS model\n",
    "als_model = AlternatingLeastSquares(factors=50, regularization=0.01, iterations=50)\n",
    "als_model.fit(data)"
   ]
  },
  {
   "cell_type": "markdown",
   "metadata": {},
   "source": [
    "En la próxima celda generaremos nuestro modelo BPR y lo entrenaremos con los datos de forma implícita."
   ]
  },
  {
   "cell_type": "code",
   "execution_count": 153,
   "metadata": {},
   "outputs": [],
   "source": [
    "# Train a BPR model\n",
    "bpr_model = BayesianPersonalizedRanking(factors=50, regularization=0.01, iterations=50)\n",
    "bpr_model.fit(data)"
   ]
  },
  {
   "cell_type": "markdown",
   "metadata": {},
   "source": [
    "A continuación se implementaron dos funciones que permite generar recomendaciones para un usuario dado un modelo, y otra que permite ver las 10 películas con mejor rating para un usuario. Deberá generar recomendaciones para un usuario utilizando los modelos BPR y ALS; visualizar las películas con mejor rating y responder las siguientes preguntas"
   ]
  },
  {
   "cell_type": "code",
   "execution_count": 154,
   "metadata": {},
   "outputs": [
    {
     "data": {
      "text/html": [
       "<div>\n",
       "<style scoped>\n",
       "    .dataframe tbody tr th:only-of-type {\n",
       "        vertical-align: middle;\n",
       "    }\n",
       "\n",
       "    .dataframe tbody tr th {\n",
       "        vertical-align: top;\n",
       "    }\n",
       "\n",
       "    .dataframe thead th {\n",
       "        text-align: right;\n",
       "    }\n",
       "</style>\n",
       "<table border=\"1\" class=\"dataframe\">\n",
       "  <thead>\n",
       "    <tr style=\"text-align: right;\">\n",
       "      <th></th>\n",
       "      <th>movie_id</th>\n",
       "      <th>scores</th>\n",
       "      <th>title</th>\n",
       "      <th>genres</th>\n",
       "    </tr>\n",
       "  </thead>\n",
       "  <tbody>\n",
       "    <tr>\n",
       "      <th>0</th>\n",
       "      <td>364</td>\n",
       "      <td>0.960329</td>\n",
       "      <td>Lion King, The (1994)</td>\n",
       "      <td>Animation|Children's|Musical</td>\n",
       "    </tr>\n",
       "    <tr>\n",
       "      <th>1</th>\n",
       "      <td>2858</td>\n",
       "      <td>0.843576</td>\n",
       "      <td>American Beauty (1999)</td>\n",
       "      <td>Comedy|Drama</td>\n",
       "    </tr>\n",
       "    <tr>\n",
       "      <th>2</th>\n",
       "      <td>318</td>\n",
       "      <td>0.829329</td>\n",
       "      <td>Shawshank Redemption, The (1994)</td>\n",
       "      <td>Drama</td>\n",
       "    </tr>\n",
       "    <tr>\n",
       "      <th>3</th>\n",
       "      <td>1282</td>\n",
       "      <td>0.827195</td>\n",
       "      <td>Fantasia (1940)</td>\n",
       "      <td>Animation|Children's|Musical</td>\n",
       "    </tr>\n",
       "    <tr>\n",
       "      <th>4</th>\n",
       "      <td>2081</td>\n",
       "      <td>0.808566</td>\n",
       "      <td>Little Mermaid, The (1989)</td>\n",
       "      <td>Animation|Children's|Comedy|Musical|Romance</td>\n",
       "    </tr>\n",
       "    <tr>\n",
       "      <th>5</th>\n",
       "      <td>34</td>\n",
       "      <td>0.782158</td>\n",
       "      <td>Babe (1995)</td>\n",
       "      <td>Children's|Comedy|Drama</td>\n",
       "    </tr>\n",
       "    <tr>\n",
       "      <th>6</th>\n",
       "      <td>596</td>\n",
       "      <td>0.777271</td>\n",
       "      <td>Pinocchio (1940)</td>\n",
       "      <td>Animation|Children's</td>\n",
       "    </tr>\n",
       "    <tr>\n",
       "      <th>7</th>\n",
       "      <td>2085</td>\n",
       "      <td>0.777233</td>\n",
       "      <td>101 Dalmatians (1961)</td>\n",
       "      <td>Animation|Children's</td>\n",
       "    </tr>\n",
       "    <tr>\n",
       "      <th>8</th>\n",
       "      <td>2078</td>\n",
       "      <td>0.768681</td>\n",
       "      <td>Jungle Book, The (1967)</td>\n",
       "      <td>Animation|Children's|Comedy|Musical</td>\n",
       "    </tr>\n",
       "    <tr>\n",
       "      <th>9</th>\n",
       "      <td>2096</td>\n",
       "      <td>0.733169</td>\n",
       "      <td>Sleeping Beauty (1959)</td>\n",
       "      <td>Animation|Children's|Musical</td>\n",
       "    </tr>\n",
       "  </tbody>\n",
       "</table>\n",
       "</div>"
      ],
      "text/plain": [
       "   movie_id    scores                             title  \\\n",
       "0       364  0.960329             Lion King, The (1994)   \n",
       "1      2858  0.843576            American Beauty (1999)   \n",
       "2       318  0.829329  Shawshank Redemption, The (1994)   \n",
       "3      1282  0.827195                   Fantasia (1940)   \n",
       "4      2081  0.808566        Little Mermaid, The (1989)   \n",
       "5        34  0.782158                       Babe (1995)   \n",
       "6       596  0.777271                  Pinocchio (1940)   \n",
       "7      2085  0.777233             101 Dalmatians (1961)   \n",
       "8      2078  0.768681           Jungle Book, The (1967)   \n",
       "9      2096  0.733169            Sleeping Beauty (1959)   \n",
       "\n",
       "                                        genres  \n",
       "0                 Animation|Children's|Musical  \n",
       "1                                 Comedy|Drama  \n",
       "2                                        Drama  \n",
       "3                 Animation|Children's|Musical  \n",
       "4  Animation|Children's|Comedy|Musical|Romance  \n",
       "5                      Children's|Comedy|Drama  \n",
       "6                         Animation|Children's  \n",
       "7                         Animation|Children's  \n",
       "8          Animation|Children's|Comedy|Musical  \n",
       "9                 Animation|Children's|Musical  "
      ]
     },
     "execution_count": 154,
     "metadata": {},
     "output_type": "execute_result"
    }
   ],
   "source": [
    "# Don't change this cell\n",
    "def recommend(user_id, model, items, movies, movie_map):\n",
    "    recommendations = model.recommend(user_id, items)\n",
    "    df_data = {\n",
    "        'movie_id': [],\n",
    "        'scores': []\n",
    "    }\n",
    "\n",
    "    for movie_id, score in recommendations:\n",
    "        df_data['movie_id'].append(movie_map[movie_id])\n",
    "        df_data['scores'].append(score)\n",
    "        \n",
    "    df = pd.DataFrame(data=df_data)\n",
    "    df = df.merge(movies, on=['movie_id'], how='inner')\n",
    "        \n",
    "    return df\n",
    "    \n",
    "def show_user(user_id, ratings, movies, movie_map, user_map):\n",
    "    user_id = user_map[user_id]\n",
    "    df = ratings[ ratings['user_id'] == user_id].sort_values(['rating'], ascending=False)\n",
    "    df = df.merge(movies, on=['movie_id'], how='inner')\n",
    "    return df[:10]\n",
    "\n",
    "# Usage example\n",
    "# \n",
    "user_id = 0 \n",
    "recommend(user_id, als_model, items, movies, int_to_movie)\n",
    "#show_user(user_id, ratings, movies, int_to_movie, int_to_user)"
   ]
  },
  {
   "cell_type": "code",
   "execution_count": 155,
   "metadata": {},
   "outputs": [
    {
     "data": {
      "text/html": [
       "<div>\n",
       "<style scoped>\n",
       "    .dataframe tbody tr th:only-of-type {\n",
       "        vertical-align: middle;\n",
       "    }\n",
       "\n",
       "    .dataframe tbody tr th {\n",
       "        vertical-align: top;\n",
       "    }\n",
       "\n",
       "    .dataframe thead th {\n",
       "        text-align: right;\n",
       "    }\n",
       "</style>\n",
       "<table border=\"1\" class=\"dataframe\">\n",
       "  <thead>\n",
       "    <tr style=\"text-align: right;\">\n",
       "      <th></th>\n",
       "      <th>movie_id</th>\n",
       "      <th>scores</th>\n",
       "      <th>title</th>\n",
       "      <th>genres</th>\n",
       "    </tr>\n",
       "  </thead>\n",
       "  <tbody>\n",
       "    <tr>\n",
       "      <th>0</th>\n",
       "      <td>3460</td>\n",
       "      <td>10.934608</td>\n",
       "      <td>Hillbillys in a Haunted House (1967)</td>\n",
       "      <td>Comedy</td>\n",
       "    </tr>\n",
       "    <tr>\n",
       "      <th>1</th>\n",
       "      <td>872</td>\n",
       "      <td>10.586279</td>\n",
       "      <td>Aiqing wansui (1994)</td>\n",
       "      <td>Drama</td>\n",
       "    </tr>\n",
       "    <tr>\n",
       "      <th>2</th>\n",
       "      <td>2592</td>\n",
       "      <td>9.706747</td>\n",
       "      <td>Joyriders, The (1999)</td>\n",
       "      <td>Drama</td>\n",
       "    </tr>\n",
       "    <tr>\n",
       "      <th>3</th>\n",
       "      <td>3323</td>\n",
       "      <td>9.461444</td>\n",
       "      <td>Chain of Fools (2000)</td>\n",
       "      <td>Comedy|Crime</td>\n",
       "    </tr>\n",
       "    <tr>\n",
       "      <th>4</th>\n",
       "      <td>790</td>\n",
       "      <td>8.982501</td>\n",
       "      <td>An Unforgettable Summer (1994)</td>\n",
       "      <td>Drama</td>\n",
       "    </tr>\n",
       "    <tr>\n",
       "      <th>5</th>\n",
       "      <td>3065</td>\n",
       "      <td>8.914357</td>\n",
       "      <td>Ten Benny (1997)</td>\n",
       "      <td>Drama</td>\n",
       "    </tr>\n",
       "    <tr>\n",
       "      <th>6</th>\n",
       "      <td>3321</td>\n",
       "      <td>8.738714</td>\n",
       "      <td>Waiting Game, The (2000)</td>\n",
       "      <td>Comedy</td>\n",
       "    </tr>\n",
       "    <tr>\n",
       "      <th>7</th>\n",
       "      <td>3828</td>\n",
       "      <td>8.713335</td>\n",
       "      <td>Better Living (1998)</td>\n",
       "      <td>Comedy</td>\n",
       "    </tr>\n",
       "    <tr>\n",
       "      <th>8</th>\n",
       "      <td>3881</td>\n",
       "      <td>8.656315</td>\n",
       "      <td>Bittersweet Motel (2000)</td>\n",
       "      <td>Documentary</td>\n",
       "    </tr>\n",
       "    <tr>\n",
       "      <th>9</th>\n",
       "      <td>763</td>\n",
       "      <td>8.560565</td>\n",
       "      <td>Last of the High Kings, The (a.k.a. Summer Fli...</td>\n",
       "      <td>Drama</td>\n",
       "    </tr>\n",
       "  </tbody>\n",
       "</table>\n",
       "</div>"
      ],
      "text/plain": [
       "   movie_id     scores                                              title  \\\n",
       "0      3460  10.934608               Hillbillys in a Haunted House (1967)   \n",
       "1       872  10.586279                               Aiqing wansui (1994)   \n",
       "2      2592   9.706747                              Joyriders, The (1999)   \n",
       "3      3323   9.461444                              Chain of Fools (2000)   \n",
       "4       790   8.982501                     An Unforgettable Summer (1994)   \n",
       "5      3065   8.914357                                   Ten Benny (1997)   \n",
       "6      3321   8.738714                           Waiting Game, The (2000)   \n",
       "7      3828   8.713335                               Better Living (1998)   \n",
       "8      3881   8.656315                           Bittersweet Motel (2000)   \n",
       "9       763   8.560565  Last of the High Kings, The (a.k.a. Summer Fli...   \n",
       "\n",
       "         genres  \n",
       "0        Comedy  \n",
       "1         Drama  \n",
       "2         Drama  \n",
       "3  Comedy|Crime  \n",
       "4         Drama  \n",
       "5         Drama  \n",
       "6        Comedy  \n",
       "7        Comedy  \n",
       "8   Documentary  \n",
       "9         Drama  "
      ]
     },
     "execution_count": 155,
     "metadata": {},
     "output_type": "execute_result"
    }
   ],
   "source": [
    "# TODO: Code your answer\n",
    "user_id = 0 \n",
    "recommend(user_id, bpr_model, items, movies, int_to_movie)"
   ]
  },
  {
   "cell_type": "markdown",
   "metadata": {},
   "source": [
    "**Pregunta**: Según tu punto de vista, ¿qué modelo obtuvo la mejor recomendación?\n",
    "\n",
    "**Respuesta**\n",
    "Basado en las respuestas obtenidas en los graficos anteriores el modelo `bpr_model`tiene mejor resultado."
   ]
  },
  {
   "cell_type": "markdown",
   "metadata": {},
   "source": [
    "**Pregunta**: Según el contenido visto en clases, ¿por qué un modelo genera mejor recomendaciones que otro? Justifique su respuesta.\n",
    "\n",
    "**Respuesta**:\n",
    "Basado en lo visto en clases el modelo `Bayesian Probabilistic Ranking` tiene mejor resultado en comparacion del `AlternatingLeastSquares`, esto se debe a unas de las caracteristicas principales de BPR es que busca la similaridad entre los usuarios para asi recomendar o hacer un raking de las peliculas, lo que ofrece un feedback positivo entre usuarios. "
   ]
  },
  {
   "cell_type": "markdown",
   "metadata": {},
   "source": [
    "## 3. Visualización de vectores latentes"
   ]
  },
  {
   "cell_type": "markdown",
   "metadata": {},
   "source": [
    "En esta sección tomaremos los vectores latentes del modelo BPR y aplicaremos una reducción de dimensionalidad a 2D mediante PCA. Luego de ejecutar las próximas celdas, deberá responder las preguntas."
   ]
  },
  {
   "cell_type": "code",
   "execution_count": 156,
   "metadata": {},
   "outputs": [
    {
     "data": {
      "image/png": "[encoded data removed]",
      "text/plain": [
       "<Figure size 432x288 with 1 Axes>"
      ]
     },
     "metadata": {},
     "output_type": "display_data"
    }
   ],
   "source": [
    "# Don't change this cell\n",
    "from sklearn.decomposition import PCA\n",
    "\n",
    "# Train a PCA model\n",
    "pca = PCA(n_components=2)\n",
    "data = pca.fit_transform(bpr_model.item_factors)\n",
    "\n",
    "plt.scatter(data[:, 0], data[:, 1])\n",
    "plt.title('Movie Embeddings Plot')\n",
    "plt.xlabel('x')\n",
    "plt.ylabel('y')\n",
    "plt.show()"
   ]
  },
  {
   "cell_type": "code",
   "execution_count": 157,
   "metadata": {},
   "outputs": [
    {
     "data": {
      "image/png": "[encoded data removed]",
      "text/plain": [
       "<Figure size 1440x1440 with 1 Axes>"
      ]
     },
     "metadata": {},
     "output_type": "display_data"
    }
   ],
   "source": [
    "N = 20\n",
    "\n",
    "# Don't change the under this line\n",
    "labels = []\n",
    "categories = []\n",
    "\n",
    "for i in range(N):\n",
    "    movie_id = int_to_movie[i]\n",
    "    movie_name = movies[ movies['movie_id'] == movie_id ]['title'].tolist()[0]\n",
    "    genres = movies[ movies['movie_id'] == movie_id ]['genres'].tolist()[0]\n",
    "    \n",
    "    labels.append(movie_name)\n",
    "    categories.append(genres)\n",
    "    \n",
    "\n",
    "plot_data = data[:N]\n",
    "plt.figure(figsize=(20,20))\n",
    "plt.scatter(plot_data[:, 0], plot_data[:, 1])\n",
    "plt.title('Movie Embeddings Plot')\n",
    "plt.xlabel('x')\n",
    "plt.ylabel('y')\n",
    "\n",
    "# Plot movie names\n",
    "for i in range(N):\n",
    "    plt.annotate(labels[i], (plot_data[i, 0], data[i, 1] + .01))\n",
    "    plt.annotate(categories[i], (plot_data[i, 0], data[i, 1] - .01))\n",
    "\n",
    "plt.show()"
   ]
  },
  {
   "cell_type": "markdown",
   "metadata": {},
   "source": [
    "**Pregunta**: Explique en sus palabras qué información capturan los vectores latentes de ítem.\n",
    "\n",
    "**Respuesta**:\n",
    " Los vectores latentes capturan información de los atributos del ítem, además capturan información del gusto de los usuarios sobre estos atributos. Por ejemplo: Se capturaron los géneros de las películas, con su nombre y además cuento le gustaron a los usuarios a través del rating."
   ]
  },
  {
   "cell_type": "markdown",
   "metadata": {},
   "source": [
    "**Pregunta**: En base al gráfico anterior, asigne un nombre o explicación a los ejes `x` e `y`.\n",
    "\n",
    "**Respuesta**:\n",
    "El enfoque del factor latente, que caracteriza tanto a los usuarios como a la película utilizando dos ejes: Alegría versus Tristezas y Femenino versus masculino."
   ]
  },
  {
   "cell_type": "markdown",
   "metadata": {},
   "source": [
    "**Pregunta**: Dado lo aprendido en clases sobre PCA, explique cómo se obtuvieron los ejes `x` e `y`.\n",
    "\n",
    "**Respuesta**:\n",
    "Se obtuvieron a través del ítem en el dataset de entrada, donde algunos datos estaban vacios y otros con valor, se aplico una reducción de dimensionalidad y se obtuvieron los valores de dimensiones latentes. La idea del PCA es buscar direcciones donde los datos varían más, esto es una solución basada en SVD."
   ]
  },
  {
   "cell_type": "markdown",
   "metadata": {},
   "source": [
    "## Entregable\n",
    "\n",
    "Una vez completado el laboratorio y respondido las preguntas deberán exportar este archivo en formato `html` y subir a la plataforma _Moodle_.\n",
    "\n",
    "Para exportar este archivo deben ir a `File > Donwload as > HTML (.html)`\n",
    "\n",
    "Si tienen algún problema o duda enviar mail a **dparra [at] ing [dot] puc [dot] cl** o **slarrain [at] uc [dot] cl** anteponiendo [Diplomada Bog Data] en el asunto."
   ]
  }
 ],
 "metadata": {
  "kernelspec": {
   "display_name": "Python 3",
   "language": "python",
   "name": "python3"
  },
  "language_info": {
   "codemirror_mode": {
    "name": "ipython",
    "version": 3
   },
   "file_extension": ".py",
   "mimetype": "text/x-python",
   "name": "python",
   "nbconvert_exporter": "python",
   "pygments_lexer": "ipython3",
   "version": "3.6.3"
  }
 },
 "nbformat": 4,
 "nbformat_minor": 2
}
