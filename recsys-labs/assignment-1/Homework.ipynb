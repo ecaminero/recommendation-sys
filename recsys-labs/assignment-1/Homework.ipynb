{
 "cells": [
  {
   "cell_type": "markdown",
   "metadata": {},
   "source": [
    "# Laboratorio 1\n",
    "\n",
    "\n",
    "- **Fecha Inicio**: Miércoles 18 de abril del 2018\n",
    "- **Entrega Informe**: Domingo 29 de abril del 2018"
   ]
  },
  {
   "cell_type": "markdown",
   "metadata": {},
   "source": [
    "# Instalación\n",
    "\n",
    "Para facilitar el proceso de instalación de esta actividad, trabajaremos con una máquina virtual que tendrá _casi_ todos los programas instalados.\n",
    "\n",
    "Como motor de máquinas virtuales usaremos [Virtual Box](https://www.virtualbox.org/wiki/Downloads). Desde ese link tendrán que descargar la versión que mejor se ajuste a su sistema operativo. Luego desde los servidores de la universidad deben descargar la [máquina virtual](http://niebla.ing.puc.cl/diplomadobigdata/vbox-pyreclab-lda.ova) ya configurada.\n",
    "\n",
    "Finalmente debemos importar la máquina descargada dentro de Virtual Box, para ello deben seguir los siguientes pasos: Abrir virtual box > Archivo > Abrir servicio virtualizado, o bien `Crtl+I`.\n",
    "\n",
    "**Observación:** la contraseña del usuario configurado es _ubuntu_.\n",
    "\n",
    "Una vez abierto la máquina virtual, abrir la consola o terminal y escribir los siguiente comandos:\n",
    "\n",
    "```bash\n",
    "$ sudo apt-get install git\n",
    "$ sudo pip3 install jupyter\n",
    "$ sudo pip3 install matplotlib\n",
    "```\n",
    "\n",
    "Descargar este proyecto ya sea con `git` o mediante el botón de descargar y ejecutar `notebook`.\n",
    "\n",
    "```bash\n",
    "$ git clone https://github.com/stgolarrain/recsys-labs.git\n",
    "$ cd recsys-labs/assignment-1\n",
    "$ jupyter notebook\n",
    "```"
   ]
  },
  {
   "cell_type": "markdown",
   "metadata": {},
   "source": [
    "## Instrucciones\n",
    "\n",
    "En este laboratorio explorarán la herramienta de sistemas de recomendación pyreclab.\n",
    "\n",
    "La biblioteca [pyreclab]( https://github.com/gasevi/pyreclab ) es una librería que implementa una serie de técnicas y modelos de recomandación, exponiendo una interfaz de fácil uso manteniendo un buen rendimiento en meoria y en CPU.\n",
    "\n",
    "En este laboratorio ejecutaremos los scripts de la carpeta [examples]( https://github.com/gasevi/pyreclab/tree/master/examples ) de la librería y evaluaremos cómo se comportan las métricas _RMSE_ y _MAE_, frente a diferentes parámetros.\n",
    "\n",
    "La librería puede ser instalada ejecutando el siguiente comando en la consola:\n",
    "```bash\n",
    "$  pip install pyreclab\n",
    "```\n",
    "\n",
    "Para facilitar la experiencia del laboratorio los archivos de ejemplo han sido guardados en la subcarpeta `src`."
   ]
  },
  {
   "cell_type": "markdown",
   "metadata": {},
   "source": [
    "## Laboratorio\n",
    "\n",
    "A continuación deberá ejecutar las siguientes celdas y responder a las preguntas."
   ]
  },
  {
   "cell_type": "code",
   "execution_count": 47,
   "metadata": {},
   "outputs": [],
   "source": [
    "import matplotlib.pyplot as plt\n",
    "%matplotlib inline"
   ]
  },
  {
   "cell_type": "code",
   "execution_count": 48,
   "metadata": {},
   "outputs": [
    {
     "name": "stdout",
     "output_type": "stream",
     "text": [
      "-> training model\n",
      "training time: 0.009253000000171596\n",
      "-> individual test\n",
      "user 457, item 443, prediction 4.026022434234619\n",
      "recommendation for user 457: ['1682', '1681', '907', '1680', '1679']\n",
      "-> prediction test\n",
      "prediction time: 0.2276400000000649\n",
      "MAE: 0.8501912740150503\n",
      "RMSE: 1.0629951276561314\n",
      "-> recommendation test\n",
      "recommendation time: 2.0828010000004724\n"
     ]
    }
   ],
   "source": [
    "# Do not change this cell\n",
    "from src import testUserAvg\n",
    "testUserAvg.main()"
   ]
  },
  {
   "cell_type": "code",
   "execution_count": 49,
   "metadata": {},
   "outputs": [
    {
     "name": "stdout",
     "output_type": "stream",
     "text": [
      "-> training model\n",
      "training time: 0.028097999999772583\n",
      "-> individual test\n",
      "user 457, item 443, prediction 3.7933883666992188\n",
      "recommendation for user 457: ['1500', '1653', '1599', '1189', '1467']\n",
      "-> prediction test\n",
      "prediction time: 0.12413699999979144\n",
      "MAE: 0.8275684032890033\n",
      "RMSE: 1.0334113714152886\n",
      "-> recommendation test\n",
      "recommendation time: 7.461574999999357\n"
     ]
    }
   ],
   "source": [
    "# Do not change this cell\n",
    "from src import testItemAvg\n",
    "testItemAvg.main()"
   ]
  },
  {
   "cell_type": "code",
   "execution_count": 50,
   "metadata": {},
   "outputs": [
    {
     "name": "stdout",
     "output_type": "stream",
     "text": [
      "-> training model\n",
      "training time: 0.5367599999999584\n",
      "-> individual test\n",
      "user 457, item 443, prediction 4.4962687492370605\n",
      "recommendation for user 457: ['1500', '1656', '1653', '1651', '1650']\n",
      "-> prediction test\n",
      "prediction time: 0.1938000000000102\n",
      "MAE: 0.7471245299823451\n",
      "RMSE: 0.950499582413917\n",
      "-> recommendation test\n",
      "recommendation time: 1.953998999999385\n"
     ]
    }
   ],
   "source": [
    "# Do not change this cell\n",
    "from src import testSlopeOne\n",
    "testSlopeOne.main()"
   ]
  },
  {
   "cell_type": "code",
   "execution_count": 51,
   "metadata": {},
   "outputs": [
    {
     "name": "stdout",
     "output_type": "stream",
     "text": [
      "-> training model\n",
      "training time: 3.3454979999996795\n",
      "-> individual test\n",
      "user 457, item 443, prediction 4.36204195022583\n",
      "recommendation for user 457: ['1467', '1599', '1642', '1653', '1358']\n",
      "-> prediction test\n",
      "prediction time: 5.625152999999955\n",
      "MAE: 0.7767656495474826\n",
      "RMSE: 0.9888193333673915\n",
      "-> recommendation test\n",
      "recommendation time: 156.54723300000023\n",
      "-> training model\n",
      "training time: 3.320372000000134\n",
      "-> individual test\n",
      "user 457, item 443, prediction 4.36233377456665\n",
      "recommendation for user 457: ['1467', '1599', '1642', '1653', '1358']\n",
      "-> prediction test\n",
      "prediction time: 9.899529000000257\n",
      "MAE: 0.7529654748945087\n",
      "RMSE: 0.9598757415248955\n",
      "-> recommendation test\n",
      "recommendation time: 209.45925700000043\n",
      "-> training model\n",
      "training time: 3.2298600000003717\n",
      "-> individual test\n",
      "user 457, item 443, prediction 4.338381290435791\n",
      "recommendation for user 457: ['1467', '1599', '1642', '1653', '1358']\n",
      "-> prediction test\n",
      "prediction time: 12.585071999999855\n",
      "MAE: 0.7533991815654608\n",
      "RMSE: 0.9600979459211264\n",
      "-> recommendation test\n",
      "recommendation time: 220.94840000000022\n"
     ]
    }
   ],
   "source": [
    "# Do not change this cell\n",
    "from src import testUserKnn\n",
    "\n",
    "k_values = [10, 50, 100]\n",
    "mae_values = []\n",
    "rmse_values = []\n",
    "\n",
    "for k in k_values:\n",
    "    mae, rmse = testUserKnn.main(k=k)\n",
    "    mae_values.append(mae)\n",
    "    rmse_values.append(rmse)"
   ]
  },
  {
   "cell_type": "markdown",
   "metadata": {},
   "source": [
    "En la próxima celda deberá graficar los diferentes valores de las métricas MAE y RMSE utilizando la librería [matplotlib](https://matplotlib.org/). Se recomienda revisar el siguiente [tutorial](https://matplotlib.org/users/pyplot_tutorial.html).\n",
    "\n",
    "_Hint:_ Se recomienda guardar el resultado de las métricas en un arreglo y luego graficar."
   ]
  },
  {
   "cell_type": "code",
   "execution_count": 52,
   "metadata": {},
   "outputs": [
    {
     "data": {
      "image/png": "[encoded data removed]",
      "text/plain": [
       "<Figure size 432x288 with 1 Axes>"
      ]
     },
     "metadata": {},
     "output_type": "display_data"
    }
   ],
   "source": [
    "# Do not change this cell\n",
    "# Plotting MAE values\n",
    "plt.plot(k_values, mae_values, 'ro')\n",
    "plt.show()"
   ]
  },
  {
   "cell_type": "code",
   "execution_count": 53,
   "metadata": {},
   "outputs": [
    {
     "name": "stdout",
     "output_type": "stream",
     "text": [
      "-> training model\n",
      "training time: 3.136569000000236\n",
      "-> individual test\n",
      "user 457, item 443, prediction 3.911736488342285\n",
      "recommendation for user 457: ['923', '74', '1142', '1167', '889']\n",
      "-> prediction test\n",
      "prediction time: 3.9526009999999587\n",
      "MAE: 1.047018406117784\n",
      "RMSE: 1.3391717658640239\n",
      "-> recommendation test\n",
      "recommendation time: 117.10105199999998\n",
      "-> training model\n",
      "training time: 3.1821749999999156\n",
      "-> individual test\n",
      "user 457, item 443, prediction 4.251927852630615\n",
      "recommendation for user 457: ['515', '854', '514', '1167', '889']\n",
      "-> prediction test\n",
      "prediction time: 4.3011690000003\n",
      "MAE: 0.9082398595719573\n",
      "RMSE: 1.1548011641571376\n",
      "-> recommendation test\n",
      "recommendation time: 123.26029699999981\n",
      "-> training model\n",
      "training time: 3.216498999999203\n",
      "-> individual test\n",
      "user 457, item 443, prediction 4.36019229888916\n",
      "recommendation for user 457: ['514', '408', '1467', '1599', '242']\n",
      "-> prediction test\n",
      "prediction time: 4.298041000000012\n",
      "MAE: 0.8593191936832363\n",
      "RMSE: 1.091104144897032\n",
      "-> recommendation test\n",
      "recommendation time: 124.61103000000003\n"
     ]
    }
   ],
   "source": [
    "# TODO: Plot RMSE values for differek_values = [10, 50, 100]\n",
    "differek_values = [1, 2, 3]\n",
    "mae_values = []\n",
    "rmse_values = []\n",
    "\n",
    "for k in differek_values:\n",
    "    mae, rmse = testUserKnn.main(k=k)\n",
    "    mae_values.append(mae)\n",
    "    rmse_values.append(rmse)\n"
   ]
  },
  {
   "cell_type": "code",
   "execution_count": 54,
   "metadata": {},
   "outputs": [
    {
     "data": {
      "image/png": "[encoded data removed]",
      "text/plain": [
       "<Figure size 432x288 with 1 Axes>"
      ]
     },
     "metadata": {},
     "output_type": "display_data"
    }
   ],
   "source": [
    "differek_values = [1, 2, 3]\n",
    "plt.plot(differek_values, mae_values, 'ro')\n",
    "plt.show()"
   ]
  },
  {
   "cell_type": "markdown",
   "metadata": {},
   "source": [
    "**Pregunta**\n",
    "En la celda anterior debe modificar el código para que ejecutar User KNN modificando el parámetro de la vencidad **K**. ¿Cuál es el efecto del parametro **K** en el valor de RMSE y MAE? Grafique el resultado utilizando la librería `matplotlib`.\n",
    "\n",
    "**Respuesta**\n",
    "El valor de K permite reducir el ruido en la clasificación, mientras mas grandes son los valores de K menor es el ruido, hemos probado en K = [1, 2, 3] y se puede ver en la grafica que los puntos se encuentran relativamente cerca, para pocos valores visualemnte es facil identificar los vecinos, en cambio si usamos grandes cantidades usuarios para recomendar sería complejo graficar con K pequeños, esto quiere decir que si mantenemos K grandes podemos tener una mejor agrupación"
   ]
  },
  {
   "cell_type": "code",
   "execution_count": 55,
   "metadata": {},
   "outputs": [
    {
     "name": "stdout",
     "output_type": "stream",
     "text": [
      "-> training model\n",
      "training time: 8.281906000000163\n",
      "-> individual test\n",
      "user 457, item 443, prediction 4.500632286071777\n",
      "recommendation for user 457: ['1449', '1367', '1639', '1642', '119']\n",
      "-> prediction test\n",
      "prediction time: 7.406676000000516\n",
      "MAE: 0.7828952915105929\n",
      "RMSE: 0.9946687256820582\n",
      "-> recommendation test\n",
      "recommendation time: 246.2237610000002\n"
     ]
    }
   ],
   "source": [
    "# TODO: Change this cell to execute with k = [10, 50, 100]\n",
    "from src import testItemKnn\n",
    "mae, rmse = testItemKnn.main(k=10)"
   ]
  },
  {
   "cell_type": "code",
   "execution_count": 61,
   "metadata": {},
   "outputs": [
    {
     "name": "stdout",
     "output_type": "stream",
     "text": [
      "-> training model\n",
      "training time: 9.35863900000004\n",
      "-> individual test\n",
      "user 457, item 443, prediction 5.0129008293151855\n",
      "recommendation for user 457: ['966', '657', '1142', '1449', '493']\n",
      "-> prediction test\n",
      "prediction time: 9.987513999999464\n",
      "MAE: 1.0423005436907966\n",
      "RMSE: 1.3304965747659268\n",
      "-> recommendation test\n",
      "recommendation time: 216.03607699999975\n"
     ]
    }
   ],
   "source": [
    "# TODO: Plot MAE values for different value of K\n",
    "mae, rmse = testItemKnn.main(k=1)"
   ]
  },
  {
   "cell_type": "code",
   "execution_count": 62,
   "metadata": {},
   "outputs": [
    {
     "data": {
      "image/png": "[encoded data removed]",
      "text/plain": [
       "<Figure size 432x288 with 1 Axes>"
      ]
     },
     "metadata": {},
     "output_type": "display_data"
    }
   ],
   "source": [
    "plt.plot(1, mae, 'ro')\n",
    "plt.show()"
   ]
  },
  {
   "cell_type": "code",
   "execution_count": 63,
   "metadata": {},
   "outputs": [
    {
     "name": "stdout",
     "output_type": "stream",
     "text": [
      "-> training model\n",
      "training time: 8.529559000000518\n",
      "-> individual test\n",
      "user 457, item 443, prediction 4.424063682556152\n",
      "recommendation for user 457: ['1367', '1449', '1642', '1594', '850']\n",
      "-> prediction test\n",
      "prediction time: 22.479356999999254\n",
      "MAE: 0.7478900193381977\n",
      "RMSE: 0.9513445209906717\n",
      "-> recommendation test\n",
      "recommendation time: 462.0404349999999\n"
     ]
    }
   ],
   "source": [
    "# TODO: Plot RMSE values for different value of K\n",
    "mae, rmse = testItemKnn.main(k=100)"
   ]
  },
  {
   "cell_type": "code",
   "execution_count": 64,
   "metadata": {},
   "outputs": [
    {
     "data": {
      "image/png": "[encoded data removed]",
      "text/plain": [
       "<Figure size 432x288 with 1 Axes>"
      ]
     },
     "metadata": {},
     "output_type": "display_data"
    }
   ],
   "source": [
    "plt.plot(100, mae, 'ro')\n",
    "plt.show()"
   ]
  },
  {
   "cell_type": "markdown",
   "metadata": {},
   "source": [
    "**Pregunta**\n",
    "En la celda anterior debe modificar el código para que ejecutar Item KNN modificando el parámetro de la vencidad **K**. ¿Cuál es el efecto del parametro **K** en el valor de RMSE y MAE? Grafique el resultado utilizando la librería `matplotlib`.\n",
    "\n",
    "**Respuesta**\n",
    "\n",
    "Tomando en referencia el codigo anterior con K=1 y K=100 podemos ver una variacion en el MAE y RMSE esta variación es favorable para cuando el K=1 debido a que tiene mayor precisión al momento de recomendar, para este caso donde el dataset es pequeño a menores valores de K tenemos se obtienen mejores resultados en la clasificación "
   ]
  },
  {
   "cell_type": "markdown",
   "metadata": {},
   "source": [
    "**(OPCIONAL)**\n",
    "Al completar esta pregunta bonus adicional tendrán 1 punto extra en la nota final.\n",
    "\n",
    "Deberán ejecutar FunkSVD con distintos valores de dimensiones latentes y graficar efecto de dimensiones latentes (eje x) sobre el RMSE (eje y)."
   ]
  },
  {
   "cell_type": "code",
   "execution_count": 65,
   "metadata": {},
   "outputs": [
    {
     "ename": "TypeError",
     "evalue": "'module' object is not callable",
     "output_type": "error",
     "traceback": [
      "\u001b[0;31m---------------------------------------------------------------------------\u001b[0m",
      "\u001b[0;31mTypeError\u001b[0m                                 Traceback (most recent call last)",
      "\u001b[0;32m<ipython-input-65-e49bcde1beaf>\u001b[0m in \u001b[0;36m<module>\u001b[0;34m()\u001b[0m\n\u001b[1;32m      1\u001b[0m \u001b[0;31m# TODO: complete bonus\u001b[0m\u001b[0;34m\u001b[0m\u001b[0;34m\u001b[0m\u001b[0m\n\u001b[1;32m      2\u001b[0m \u001b[0;32mfrom\u001b[0m \u001b[0msrc\u001b[0m \u001b[0;32mimport\u001b[0m \u001b[0mtestFunkSvd\u001b[0m\u001b[0;34m\u001b[0m\u001b[0m\n\u001b[0;32m----> 3\u001b[0;31m \u001b[0mmae\u001b[0m\u001b[0;34m,\u001b[0m \u001b[0mrmse\u001b[0m \u001b[0;34m=\u001b[0m \u001b[0mtestFunkSvd\u001b[0m\u001b[0;34m(\u001b[0m\u001b[0mfactors\u001b[0m\u001b[0;34m=\u001b[0m\u001b[0;36m100\u001b[0m\u001b[0;34m)\u001b[0m\u001b[0;34m\u001b[0m\u001b[0m\n\u001b[0m",
      "\u001b[0;31mTypeError\u001b[0m: 'module' object is not callable"
     ]
    }
   ],
   "source": [
    "# TODO: complete bonus\n",
    "from src import testFunkSvd\n",
    "mae, rmse = testFunkSvd(factors=100)"
   ]
  },
  {
   "cell_type": "markdown",
   "metadata": {},
   "source": [
    "## Entregable\n",
    "\n",
    "Una vez completado el laboratorio y respondido las preguntas deberán exportar este archivo en formato `html` y subir a la plataforma _Moodle_.\n",
    "\n",
    "Para exportar este archivo deben ir a `File > Donwload as > HTML (.html)`\n",
    "\n",
    "Si tienen algún problema o duda enviar mail a **dparra [at] ing [dot] puc [dot] cl** o **slarrain [at] uc [dot] cl** anteponiendo [Diplomada Bog Data] en el asunto."
   ]
  }
 ],
 "metadata": {
  "kernelspec": {
   "display_name": "Python 3",
   "language": "python",
   "name": "python3"
  },
  "language_info": {
   "codemirror_mode": {
    "name": "ipython",
    "version": 3
   },
   "file_extension": ".py",
   "mimetype": "text/x-python",
   "name": "python",
   "nbconvert_exporter": "python",
   "pygments_lexer": "ipython3",
   "version": "3.6.3"
  }
 },
 "nbformat": 4,
 "nbformat_minor": 2
}
